{
 "cells": [
  {
   "cell_type": "code",
   "execution_count": null,
   "id": "7a1b8943-7190-459b-a77c-6b3b8b689163",
   "metadata": {},
   "outputs": [],
   "source": [
    "import cv2\n",
    "image = cv2.imread('/home/sam/Desktop/dipt/COLOR_CONVERSIONS_OF-IMAGE/sam.jpg', 1)\n",
    "if image is None:\n",
    "    print(\"Error: Image not found. Please check the file path.\")\n",
    "else:\n",
    "    image = cv2.resize(image, (600, 400))\n",
    "    cv2.imshow('Ssm Israel', image)\n",
    "    cv2.waitKey(0)\n",
    "    cv2.destroyAllWindows()"
   ]
  },
  {
   "cell_type": "code",
   "execution_count": 2,
   "id": "219ea0d1-a12b-455c-902c-77d2bf52b17f",
   "metadata": {},
   "outputs": [
    {
     "data": {
      "text/plain": [
       "True"
      ]
     },
     "execution_count": 2,
     "metadata": {},
     "output_type": "execute_result"
    }
   ],
   "source": [
    "    import cv2\n",
    "    image=cv2.imread('/home/sam/Desktop/dipt/COLOR_CONVERSIONS_OF-IMAGE/sam.jpg',0)\n",
    "    cv2.imwrite('sam.jpg',image)"
   ]
  },
  {
   "cell_type": "code",
   "execution_count": 4,
   "id": "bcbe720f-5a0c-44dc-a28d-e98a643e8e79",
   "metadata": {},
   "outputs": [
    {
     "name": "stdout",
     "output_type": "stream",
     "text": [
      "(408, 612, 3)\n"
     ]
    }
   ],
   "source": [
    "    import cv2\n",
    "    image=cv2.imread('sam.jpg',1)\n",
    "    print(image.shape)"
   ]
  },
  {
   "cell_type": "code",
   "execution_count": 4,
   "id": "84ee3f52-97cf-4890-a038-a7b54c956928",
   "metadata": {},
   "outputs": [],
   "source": [
    "import cv2\n",
    "image=cv2.imread('/home/sam/Desktop/dipt/COLOR_CONVERSIONS_OF-IMAGE/sam.jpg',1)\n",
    "image=cv2.resize(image,(400,400))\n",
    "tag =image[130:200,110:190]\n",
    "image[110:180,120:200] = tag\n",
    "cv2.imshow('partimage1',image)\n",
    "cv2.waitKey(0)\n",
    "cv2.destroyAllWindows()"
   ]
  },
  {
   "cell_type": "code",
   "execution_count": null,
   "id": "0c4ed1e1-ba4d-4e43-bf17-d9593e01be9a",
   "metadata": {},
   "outputs": [],
   "source": [
    "import cv2\n",
    "img = cv2.imread('/home/sam/Desktop/dipt/COLOR_CONVERSIONS_OF-IMAGE/sam.jpg',1)\n",
    "img = cv2.resize(img,(300,200))\n",
    "cv2.imshow('Original Image',img)\n",
    "hsv1 = cv2.cvtColor(img,cv2.COLOR_BGR2HSV)\n",
    "cv2.imshow('BGR2HSV',hsv1)\n",
    "hsv2 = cv2.cvtColor(img,cv2.COLOR_RGB2HSV)\n",
    "cv2.imshow('RGB2HSV',hsv2)\n",
    "gray1 = cv2.cvtColor(img,cv2.COLOR_BGR2GRAY)\n",
    "cv2.imshow('BGR2GRAY',gray1)\n",
    "gray2 = cv2.cvtColor(img,cv2.COLOR_RGB2GRAY)\n",
    "cv2.imshow('RGB2GRAY',gray2)\n",
    "cv2.waitKey(0)\n",
    "cv2.destroyAllWindows()"
   ]
  },
  {
   "cell_type": "code",
   "execution_count": null,
   "id": "843d1417-2d9a-4e33-b6ee-90f24b4f7c15",
   "metadata": {},
   "outputs": [],
   "source": [
    "import cv2\n",
    "img = cv2.imread('/home/sam/Desktop/dipt/COLOR_CONVERSIONS_OF-IMAGE/sam.jpg')\n",
    "img = cv2.resize(img,(300,200))\n",
    "img = cv2.cvtColor(img,cv2.COLOR_BGR2HSV)\n",
    "cv2.imshow('Original HSV Image',img)\n",
    "RGB = cv2.cvtColor(img,cv2.COLOR_HSV2RGB)\n",
    "cv2.imshow('2HSV2BGR',RGB)\n",
    "BGR = cv2.cvtColor(img,cv2.COLOR_HSV2BGR)\n",
    "cv2.imshow('HSV2RGB',BGR)\n",
    "cv2.waitKey(0)\n",
    "cv2.destroyAllWindows()"
   ]
  },
  {
   "cell_type": "code",
   "execution_count": null,
   "id": "92ca2f38-18c1-4787-b3ed-51ea12d41250",
   "metadata": {},
   "outputs": [],
   "source": [
    "import cv2\n",
    "img = cv2.imread('/home/sam/Desktop/dipt/COLOR_CONVERSIONS_OF-IMAGE/sam.jpg',1)\n",
    "img = cv2.resize(img,(300,200))\n",
    "R = img[:,:,2]\n",
    "G = img[:,:,1]\n",
    "B = img[:,:,0]\n",
    "cv2.imshow('R-Channel',R)\n",
    "cv2.imshow('G-Channel',G)\n",
    "cv2.imshow('B-Channel',B)\n",
    "merged = cv2.merge((B,G,R))\n",
    "cv2.imshow('Merged RGB image',merged)\n",
    "cv2.waitKey(0)\n",
    "cv2.destroyAllWindows()"
   ]
  },
  {
   "cell_type": "code",
   "execution_count": null,
   "id": "2406066a-d455-487b-b0ad-2b4d612f05ea",
   "metadata": {},
   "outputs": [],
   "source": []
  }
 ],
 "metadata": {
  "kernelspec": {
   "display_name": "Python 3 (ipykernel)",
   "language": "python",
   "name": "python3"
  },
  "language_info": {
   "codemirror_mode": {
    "name": "ipython",
    "version": 3
   },
   "file_extension": ".py",
   "mimetype": "text/x-python",
   "name": "python",
   "nbconvert_exporter": "python",
   "pygments_lexer": "ipython3",
   "version": "3.10.12"
  }
 },
 "nbformat": 4,
 "nbformat_minor": 5
}
