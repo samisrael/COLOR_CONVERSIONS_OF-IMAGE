{
 "cells": [
  {
   "cell_type": "code",
   "execution_count": null,
   "id": "7a1b8943-7190-459b-a77c-6b3b8b689163",
   "metadata": {},
   "outputs": [],
   "source": [
    "import cv2\n",
    "\n",
    "# Load an image from your local directory\n",
    "image = cv2.imread('/home/sam/Desktop/dipt/COLOR_CONVERSIONS_OF-IMAGE/images/sam.jpg')\n",
    "\n",
    "# Display the original image\n",
    "cv2.imshow('Original Image', image)\n",
    "cv2.waitKey(0)\n",
    "cv2.destroyAllWindows()\n"
   ]
  },
  {
   "cell_type": "code",
   "execution_count": null,
   "id": "219ea0d1-a12b-455c-902c-77d2bf52b17f",
   "metadata": {},
   "outputs": [],
   "source": [
    "# Draw a line from the top-left to the bottom-right of the image\n",
    "cv2.line(image, (0, 0), (image.shape[1], image.shape[0]), (255, 0, 0), 3)\n",
    "\n",
    "# Draw a circle at the center of the image\n",
    "center = (image.shape[1]//2, image.shape[0]//2)\n",
    "cv2.circle(image, center, 50, (0, 255, 0), 3)\n",
    "\n",
    "# Draw a rectangle around a specific region of interest (ROI)\n",
    "cv2.rectangle(image, (100, 100), (200, 200), (0, 0, 255), 3)\n",
    "\n",
    "# Add text at the top-left corner of the image\n",
    "cv2.putText(image, 'OpenCV Drawing', (10, 30), cv2.FONT_HERSHEY_SIMPLEX, 1, (255, 255, 255), 2)\n",
    "\n",
    "# Display the modified image\n",
    "cv2.imshow('Image with Shapes and Text', image)\n",
    "cv2.waitKey(0)\n",
    "cv2.destroyAllWindows()\n"
   ]
  },
  {
   "cell_type": "code",
   "execution_count": null,
   "id": "bcbe720f-5a0c-44dc-a28d-e98a643e8e79",
   "metadata": {},
   "outputs": [],
   "source": [
    "# Convert and display the image in different color spaces\n",
    "# RGB to HSV\n",
    "hsv_image = cv2.cvtColor(image, cv2.COLOR_BGR2HSV)\n",
    "cv2.imshow('HSV Image', hsv_image)\n",
    "cv2.waitKey(0)\n",
    "\n",
    "# RGB to GRAY\n",
    "gray_image = cv2.cvtColor(image, cv2.COLOR_BGR2GRAY)\n",
    "cv2.imshow('Gray Image', gray_image)\n",
    "cv2.waitKey(0)\n",
    "\n",
    "# RGB to YCrCb\n",
    "ycrcb_image = cv2.cvtColor(image, cv2.COLOR_BGR2YCrCb)\n",
    "cv2.imshow('YCrCb Image', ycrcb_image)\n",
    "cv2.waitKey(0)\n",
    "\n",
    "# Convert HSV image back to RGB\n",
    "hsv_to_rgb_image = cv2.cvtColor(hsv_image, cv2.COLOR_HSV2BGR)\n",
    "cv2.imshow('HSV to RGB Image', hsv_to_rgb_image)\n",
    "cv2.waitKey(0)\n",
    "cv2.destroyAllWindows()\n"
   ]
  },
  {
   "cell_type": "code",
   "execution_count": null,
   "id": "84ee3f52-97cf-4890-a038-a7b54c956928",
   "metadata": {},
   "outputs": [
    {
     "name": "stdout",
     "output_type": "stream",
     "text": [
      "Pixel value at (100, 100): [0 0 0]\n"
     ]
    }
   ],
   "source": [
    "\n",
    "# Access and print pixel value at (100, 100)\n",
    "pixel_value = image[100, 100]\n",
    "print(f'Pixel value at (100, 100): {pixel_value}')\n",
    "\n",
    "# Modify the pixel value at (200, 200) to white\n",
    "image[200, 200] = [255, 255, 255]\n",
    "\n",
    "# Display the modified image with pixel changes\n",
    "cv2.imshow('Modified Pixel Image', image)\n",
    "cv2.waitKey(0)\n",
    "cv2.destroyAllWindows()\n"
   ]
  },
  {
   "cell_type": "code",
   "execution_count": null,
   "id": "0c4ed1e1-ba4d-4e43-bf17-d9593e01be9a",
   "metadata": {},
   "outputs": [],
   "source": [
    "# Resize the original image to half its size\n",
    "resized_image = cv2.resize(image, (image.shape[1]//2, image.shape[0]//2))\n",
    "\n",
    "# Display the resized image\n",
    "cv2.imshow('Resized Image', resized_image)\n",
    "cv2.waitKey(0)\n",
    "cv2.destroyAllWindows()\n"
   ]
  },
  {
   "cell_type": "code",
   "execution_count": null,
   "id": "843d1417-2d9a-4e33-b6ee-90f24b4f7c15",
   "metadata": {},
   "outputs": [],
   "source": [
    "# Crop a region of interest (ROI)\n",
    "roi = image[250:350, 250:350]  # Cropping a 100x100 pixel area starting at (50, 50)\n",
    "\n",
    "# Display the cropped ROI\n",
    "cv2.imshow('Cropped ROI', roi)\n",
    "cv2.waitKey(0)\n",
    "cv2.destroyAllWindows()\n"
   ]
  },
  {
   "cell_type": "code",
   "execution_count": null,
   "id": "92ca2f38-18c1-4787-b3ed-51ea12d41250",
   "metadata": {},
   "outputs": [],
   "source": [
    "# Flip the image horizontally\n",
    "horizontally_flipped = cv2.flip(image, 1)\n",
    "cv2.imshow('Horizontally Flipped Image', horizontally_flipped)\n",
    "cv2.waitKey(0)\n",
    "\n",
    "# Flip the image vertically\n",
    "vertically_flipped = cv2.flip(image, 0)\n",
    "cv2.imshow('Vertically Flipped Image', vertically_flipped)\n",
    "cv2.waitKey(0)\n",
    "cv2.destroyAllWindows()\n"
   ]
  },
  {
   "cell_type": "code",
   "execution_count": 2,
   "id": "2406066a-d455-487b-b0ad-2b4d612f05ea",
   "metadata": {},
   "outputs": [
    {
     "data": {
      "text/plain": [
       "True"
      ]
     },
     "execution_count": 2,
     "metadata": {},
     "output_type": "execute_result"
    }
   ],
   "source": [
    "# Save the final modified image to your local directory\n",
    "cv2.imwrite('modified_image.jpg', image)"
   ]
  },
  {
   "cell_type": "code",
   "execution_count": null,
   "id": "0b842e87-af8e-423e-96bd-cb11b6ba7871",
   "metadata": {},
   "outputs": [],
   "source": []
  }
 ],
 "metadata": {
  "kernelspec": {
   "display_name": "Python 3 (ipykernel)",
   "language": "python",
   "name": "python3"
  },
  "language_info": {
   "codemirror_mode": {
    "name": "ipython",
    "version": 3
   },
   "file_extension": ".py",
   "mimetype": "text/x-python",
   "name": "python",
   "nbconvert_exporter": "python",
   "pygments_lexer": "ipython3",
   "version": "3.10.12"
  }
 },
 "nbformat": 4,
 "nbformat_minor": 5
}
